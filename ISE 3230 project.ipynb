{
 "cells": [
  {
   "cell_type": "code",
   "execution_count": 31,
   "id": "800dc45b",
   "metadata": {},
   "outputs": [
    {
     "name": "stdout",
     "output_type": "stream",
     "text": [
      "The path is:\n",
      "\n",
      "0 => 1 => 4 => 2 => 3 => 6 => 8 => 7 => 9 => 5 => 0\n",
      "The optimal distance is: 2.2 mile\n",
      "objective value:  207.0 minutes\n",
      "optimal duration per each ride:  [2. 4. 2. 3. 4. 5. 6. 2. 2. 3.]\n",
      "optimal waiting per each ride:  [20. 10. 15. 10. 10.  5. 10. 20. 15. 15.]\n"
     ]
    }
   ],
   "source": [
    "!pip install --quiet geopy\n",
    "\n",
    "import numpy as np\n",
    "import pandas as pd\n",
    "import matplotlib.pyplot as plt\n",
    "import cvxpy as cp\n",
    "from geopy import distance\n",
    "\n",
    "C = [\n",
    "        [0, 0.2, 0.4, 0.6, 0.3, 0.2, 0.5, 0.4, 0.6, 0.3],\n",
    "        [0.2, 0, 0.2, 0.4, 0.2, 0.3, 0.4, 0.5, 0.5, 0.5],\n",
    "        [0.4, 0.2, 0, 0.2, 0.2, 0.4, 0.3, 0.5, 0.5, 0.6],\n",
    "        [0.6, 0.4, 0.2, 0, 0.3, 0.4, 0.2, 0.4, 0.3, 0.6],\n",
    "        [0.3, 0.2, 0.2, 0.3, 0, 0.2, 0.2, 0.3, 0.4, 0.4],\n",
    "        [0.2, 0.3, 0.4, 0.4, 0.2, 0, 0.3, 0.2, 0.5, 0.2],\n",
    "        [0.5, 0.4, 0.3, 0.2, 0.2, 0.3, 0, 0.2, 0.2, 0.5],\n",
    "        [0.4, 0.5, 0.5, 0.4, 0.3, 0.2, 0.2, 0, 0.3, 0.3],\n",
    "        [0.6, 0.5, 0.5, 0.3, 0.4, 0.2, 0.2, 0.3, 0, 0.6],\n",
    "        [0.3, 0.5, 0.6, 0.6, 0.4, 0.2, 0.5, 0.3, 0.6, 0]\n",
    "    ]\n",
    "\n",
    "n=10\n",
    "shape = np.shape(C)\n",
    "X = cp.Variable(shape, boolean=True)\n",
    "u = cp.Variable(n, nonneg=True)\n",
    "d = cp.Variable(n, nonneg=True)  # duration time\n",
    "w = cp.Variable(n, nonneg=True)  # waiting time\n",
    "ones = np.ones((n,1))\n",
    "\n",
    "# Defining the objective function\n",
    "# multiplying 20 to calculate the time from distance according to the walking speed\n",
    "# walking time is 3 mile per hour, which also means 1 mile per \"20\" minutes\n",
    "objective = 20*cp.sum(cp.multiply(C, X)) + w[0]+w[1]+w[2]+w[3]+w[4]+w[5]+w[6]+w[7]+w[8]+w[9] + d[0]+d[1]+d[2]+d[3]+d[4]+d[5]+d[6]+d[7]+d[8]+d[9]\n",
    "\n",
    "# Defining the constraints\n",
    "constraints = []\n",
    "constraints += [X @ ones == ones]\n",
    "constraints += [X.T @ ones == ones]\n",
    "constraints += [cp.diag(X) == 0]\n",
    "constraints += [u[1:] >= 2]\n",
    "constraints += [u[1:] <= n]\n",
    "constraints += [u[0] == 1]\n",
    "\n",
    "constraints += [d[0] >= 2]\n",
    "constraints += [d[1] >= 4]\n",
    "constraints += [d[2] >= 2]\n",
    "constraints += [d[3] >= 3]\n",
    "constraints += [d[4] >= 4]\n",
    "constraints += [d[5] >= 5]\n",
    "constraints += [d[6] >= 6]\n",
    "constraints += [d[7] >= 2]\n",
    "constraints += [d[8] >= 2]\n",
    "constraints += [d[9] >= 3]\n",
    "\n",
    "constraints += [w[0] >= 20]\n",
    "constraints += [w[1] >= 10]\n",
    "constraints += [w[2] >= 15]\n",
    "constraints += [w[3] >= 10]\n",
    "constraints += [w[4] >= 10]\n",
    "constraints += [w[5] >= 5]\n",
    "constraints += [w[6] >= 10]\n",
    "constraints += [w[7] >= 20]\n",
    "constraints += [w[8] >= 15]\n",
    "constraints += [w[9] >= 15]\n",
    "\n",
    "for i in range(1, n):\n",
    "    for j in range(1, n):\n",
    "        if i != j:\n",
    "            constraints += [ u[i] - u[j] + 1  <= (n - 1) * (1 - X[i, j]) ]\n",
    "\n",
    "# Solving the problem\n",
    "prob = cp.Problem(cp.Minimize(objective), constraints)\n",
    "prob.solve(solver=cp.GUROBI,verbose = False)\n",
    "\n",
    "# Transforming the solution to a path\n",
    "X_sol = np.argwhere(X.value==1)\n",
    "order = X_sol[0].tolist()\n",
    "\n",
    "for i in range(1, n):\n",
    "    row = order[-1]\n",
    "    order.append(X_sol[row,1])\n",
    "\n",
    "# Showing the optimal path\n",
    "print('The path is:\\n')\n",
    "print( ' => '.join(map(str, order)))\n",
    "\n",
    "distance = np.sum(np.multiply(C, X.value))\n",
    "print('The optimal distance is:', np.round(distance,2), 'mile')\n",
    "\n",
    "print(\"objective value: \", objective.value, \"minutes\")\n",
    "print(\"optimal duration per each ride: \", d.value)\n",
    "print(\"optimal waiting per each ride: \", w.value)"
   ]
  },
  {
   "cell_type": "code",
   "execution_count": 32,
   "id": "bb447cf3",
   "metadata": {},
   "outputs": [
    {
     "name": "stdout",
     "output_type": "stream",
     "text": [
      "optimal path:  [0, 1, 4, 2, 3, 6, 8, 5, 7, 9]\n",
      "total distance:  2.1999999999999997 mile\n"
     ]
    }
   ],
   "source": [
    "import numpy as np\n",
    "from python_tsp.exact import solve_tsp_dynamic_programming\n",
    "\n",
    "distance = np.array([\n",
    "        [0, 0.2, 0.4, 0.6, 0.3, 0.2, 0.5, 0.4, 0.6, 0.3],\n",
    "        [0.2, 0, 0.2, 0.4, 0.2, 0.3, 0.4, 0.5, 0.5, 0.5],\n",
    "        [0.4, 0.2, 0, 0.2, 0.2, 0.4, 0.3, 0.5, 0.5, 0.6],\n",
    "        [0.6, 0.4, 0.2, 0, 0.3, 0.4, 0.2, 0.4, 0.3, 0.6],\n",
    "        [0.3, 0.2, 0.2, 0.3, 0, 0.2, 0.2, 0.3, 0.4, 0.4],\n",
    "        [0.2, 0.3, 0.4, 0.4, 0.2, 0, 0.3, 0.2, 0.5, 0.2],\n",
    "        [0.5, 0.4, 0.3, 0.2, 0.2, 0.3, 0, 0.2, 0.2, 0.5],\n",
    "        [0.4, 0.5, 0.5, 0.4, 0.3, 0.2, 0.2, 0, 0.3, 0.3],\n",
    "        [0.6, 0.5, 0.5, 0.3, 0.4, 0.2, 0.2, 0.3, 0, 0.6],\n",
    "        [0.3, 0.5, 0.6, 0.6, 0.4, 0.2, 0.5, 0.3, 0.6, 0]\n",
    "    ])\n",
    "\n",
    "permutation, distance = solve_tsp_dynamic_programming(distance)\n",
    "print(\"optimal path: \", permutation)\n",
    "print(\"total distance: \", distance, \"mile\")"
   ]
  },
  {
   "cell_type": "markdown",
   "id": "3e4fbe55",
   "metadata": {},
   "source": [
    "The tsp package travels around every node once and go back to the starting point at the end. The permutation of the tsp doesn't print out the last path, which is a path between the last node and the first node(starting point). However, the total distance is calculated traveling each node once and going back to the starting point.\\\n",
    "The result of total distance by using the tsp package is 2.1999999999999997 mile, which is slightly different from 2.2 mile, the result of total distance by using gurobi. This is because there can be an error when doing calculations of float values in python. Therefore, we can assume that 2.1999999999999997 mile is 2.2 mile in this case.\\\n",
    "You can see that the paths from two outputs are slightly different. There can be more than one possible optimal path, so the result(path) between using gurobi and tsp package can differ. Even though the paths are different, the optimal value seems to equal as 2.2 mile."
   ]
  },
  {
   "cell_type": "code",
   "execution_count": null,
   "id": "7f1e4cd4",
   "metadata": {},
   "outputs": [],
   "source": []
  }
 ],
 "metadata": {
  "kernelspec": {
   "display_name": "Python 3 (ipykernel)",
   "language": "python",
   "name": "python3"
  },
  "language_info": {
   "codemirror_mode": {
    "name": "ipython",
    "version": 3
   },
   "file_extension": ".py",
   "mimetype": "text/x-python",
   "name": "python",
   "nbconvert_exporter": "python",
   "pygments_lexer": "ipython3",
   "version": "3.9.12"
  }
 },
 "nbformat": 4,
 "nbformat_minor": 5
}
