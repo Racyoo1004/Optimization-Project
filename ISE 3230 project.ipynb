{
 "cells": [
  {
   "cell_type": "code",
   "execution_count": 74,
   "id": "800dc45b",
   "metadata": {},
   "outputs": [
    {
     "name": "stdout",
     "output_type": "stream",
     "text": [
      "[0. 1. 0. 1. 1. 1. 1. 0. 0. 1.]\n",
      "The optimal path is:\n",
      "0 => 1 => 4 => 2 => 3 => 6 => 8 => 7 => 9 => 5 => 0\n",
      "The optimal distance is: 2.2 mile\n",
      "objective value:  147.0 minutes\n"
     ]
    }
   ],
   "source": [
    "!pip install --quiet geopy\n",
    "import numpy as np\n",
    "import pandas as pd\n",
    "import matplotlib.pyplot as plt\n",
    "import cvxpy as cp\n",
    "from geopy import distance\n",
    "\n",
    "# distance matrix\n",
    "C = [\n",
    "        [0, 0.2, 0.4, 0.6, 0.3, 0.2, 0.5, 0.4, 0.6, 0.3],\n",
    "        [0.2, 0, 0.2, 0.4, 0.2, 0.3, 0.4, 0.5, 0.5, 0.5],\n",
    "        [0.4, 0.2, 0, 0.2, 0.2, 0.4, 0.3, 0.5, 0.5, 0.6],\n",
    "        [0.6, 0.4, 0.2, 0, 0.3, 0.4, 0.2, 0.4, 0.3, 0.6],\n",
    "        [0.3, 0.2, 0.2, 0.3, 0, 0.2, 0.2, 0.3, 0.4, 0.4],\n",
    "        [0.2, 0.3, 0.4, 0.4, 0.2, 0, 0.3, 0.2, 0.5, 0.2],\n",
    "        [0.5, 0.4, 0.3, 0.2, 0.2, 0.3, 0, 0.2, 0.2, 0.5],\n",
    "        [0.4, 0.5, 0.5, 0.4, 0.3, 0.2, 0.2, 0, 0.3, 0.3],\n",
    "        [0.6, 0.5, 0.5, 0.3, 0.4, 0.2, 0.2, 0.3, 0, 0.6],\n",
    "        [0.3, 0.5, 0.6, 0.6, 0.4, 0.2, 0.5, 0.3, 0.6, 0]\n",
    "    ]\n",
    "m = [16,8,12,8,8,4,8,16,12,12]  # prices($) for fastpass\n",
    "w = [20,10,15,10,10,5,10,20,15,15]  # waiting time(min)\n",
    "d = [2,4,2,3,4,5,6,2,2,3]  # duration time(min)\n",
    "\n",
    "shape = np.shape(C)\n",
    "X = cp.Variable(shape, boolean=True) # 1 if there is a path between the rides\n",
    "Y = cp.Variable(10, boolean=True)  # 1 if the fast pass is purchased\n",
    "u = cp.Variable(10, nonneg=True)  # dummy variable to eliminate subtours\n",
    "\n",
    "# Defining the objective function\n",
    "# Multiplying 20 to calculate the time from distance according to walking speed\n",
    "objective = 20*cp.sum(cp.multiply(C, X)) + cp.sum(w) - cp.sum(cp.multiply(Y,w)) + cp.sum(d)\n",
    "\n",
    "# Defining the constraints\n",
    "constraints = []\n",
    "\n",
    "for i in range(10):\n",
    "    constraints += [cp.sum(X[i, :]) == 1]\n",
    "for j in range(10):\n",
    "    constraints += [cp.sum(X[:, j]) == 1]\n",
    "for i in range(1, 10):\n",
    "    for j in range(1, 10):\n",
    "        if i != j:\n",
    "            constraints += [u[i]-u[j]+1 <= (n-1) * (1-X[i, j])]    \n",
    "    \n",
    "constraints += [cp.sum(cp.multiply(Y,m)) <= 50] # budget is $50 for purchasing fastpasses\n",
    "\n",
    "constraints += [cp.diag(X) == 0] \n",
    "constraints += [u[1:] >= 2]\n",
    "constraints += [u[1:] <= n]\n",
    "constraints += [u[0] == 1]\n",
    "\n",
    "# Solving the problem\n",
    "prob = cp.Problem(cp.Minimize(objective), constraints)\n",
    "prob.solve(solver=cp.GUROBI,verbose = False)\n",
    "\n",
    "# Transforming the solution to a path\n",
    "X_sol = np.argwhere(X.value==1)\n",
    "order = X_sol[0].tolist()\n",
    "for i in range(1, n):\n",
    "    row = order[-1]\n",
    "    order.append(X_sol[row,1])\n",
    "\n",
    "# Showing the optimal result\n",
    "print(Y.value)\n",
    "print('The optimal path is:')\n",
    "print( ' => '.join(map(str, order)))\n",
    "distance = np.sum(np.multiply(C, X.value))\n",
    "print('The optimal distance is:', np.round(distance,2), 'mile')\n",
    "print(\"objective value: \", objective.value, \"minutes\")"
   ]
  }
 ],
 "metadata": {
  "kernelspec": {
   "display_name": "Python 3 (ipykernel)",
   "language": "python",
   "name": "python3"
  },
  "language_info": {
   "codemirror_mode": {
    "name": "ipython",
    "version": 3
   },
   "file_extension": ".py",
   "mimetype": "text/x-python",
   "name": "python",
   "nbconvert_exporter": "python",
   "pygments_lexer": "ipython3",
   "version": "3.9.12"
  }
 },
 "nbformat": 4,
 "nbformat_minor": 5
}
