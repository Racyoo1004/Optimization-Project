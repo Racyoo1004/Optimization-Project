{
 "cells": [
  {
   "cell_type": "code",
   "execution_count": 6,
   "id": "800dc45b",
   "metadata": {},
   "outputs": [
    {
     "name": "stdout",
     "output_type": "stream",
     "text": [
      "var14399[1, 0]\n",
      "The path is:\n",
      "\n",
      "0 => 1 => 4 => 2 => 3 => 8 => 6 => 7 => 9 => 5 => 0\n",
      "The optimal distance is: 2.5 mile\n"
     ]
    }
   ],
   "source": [
    "!pip install --quiet geopy\n",
    "\n",
    "import numpy as np\n",
    "import pandas as pd\n",
    "import matplotlib.pyplot as plt\n",
    "import cvxpy as cp\n",
    "from geopy import distance\n",
    "\n",
    "C = [\n",
    "        [0, 0.2, 0.4, 0.6, 0.3, 0.2, 0.5, 0.4, 0.6, 0.3],\n",
    "        [0.2, 0, 0.2, 0.4, 0.2, 0.3, 0.4, 0.5, 0.5, 0.5],\n",
    "        [0.4, 0.2, 0, 0.2, 0.2, 0.4, 0.3, 0.5, 0.5, 0.6],\n",
    "        [0.6, 0.4, 0.2, 0, 0.3, 0.4, 0.2, 0.4, 0.3, 0.6],\n",
    "        [0.3, 0.2, 0.2, 0.3, 0, 0.2, 0.2, 0.3, 0.4, 0.4],\n",
    "        [0.2, 0.3, 0.4, 0.4, 0.2, 0, 0.3, 0.2, 0.5, 0.2],\n",
    "        [0.5, 0.4, 0.3, 0.2, 0.2, 0.3, 0, 0.2, 0.2, 0.5],\n",
    "        [0.4, 0.5, 0.5, 0.4, 0.3, 0.2, 0.2, 0, 0.3, 0.3],\n",
    "        [0.6, 0.5, 0.5, 0.3, 0.4, 0.2, 0.2, 0.3, 0, 0.6],\n",
    "        [0.3, 0.5, 0.6, 0.6, 0.4, 0.5, 0.5, 0.3, 0.6, 0]\n",
    "    ]\n",
    "\n",
    "n=10\n",
    "shape = np.shape(C)\n",
    "X = cp.Variable(shape, boolean=True)\n",
    "u = cp.Variable(n, nonneg=True)\n",
    "ones = np.ones((n,1))\n",
    "\n",
    "# Defining the objective function\n",
    "objective = cp.Minimize(cp.sum(cp.multiply(C, X)))\n",
    "\n",
    "# Defining the constraints\n",
    "constraints = []\n",
    "constraints += [X @ ones == ones]\n",
    "constraints += [X.T @ ones == ones]\n",
    "constraints += [cp.diag(X) == 0]\n",
    "constraints += [u[1:] >= 2]\n",
    "constraints += [u[1:] <= n]\n",
    "constraints += [u[0] == 1]\n",
    "\n",
    "for i in range(1, n):\n",
    "    for j in range(1, n):\n",
    "        if i != j:\n",
    "            constraints += [ u[i] - u[j] + 1  <= (n - 1) * (1 - X[i, j]) ]\n",
    "\n",
    "# Solving the problem\n",
    "prob = cp.Problem(objective, constraints)\n",
    "prob.solve(solver=cp.GUROBI,verbose = False)\n",
    "\n",
    "# Transforming the solution to a path\n",
    "X_sol = np.argwhere(X.value==1)\n",
    "order = X_sol[0].tolist()\n",
    "\n",
    "for i in range(1, n):\n",
    "    row = order[-1]\n",
    "    order.append(X_sol[row,1])\n",
    "\n",
    "# Showing the optimal path\n",
    "print('The path is:\\n')\n",
    "print( ' => '.join(map(str, order)))\n",
    "\n",
    "distance = np.sum(np.multiply(C, X.value))\n",
    "print('The optimal distance is:', np.round(distance,2), 'mile')"
   ]
  },
  {
   "cell_type": "code",
   "execution_count": 1,
   "id": "bb447cf3",
   "metadata": {},
   "outputs": [
    {
     "name": "stdout",
     "output_type": "stream",
     "text": [
      "[0, 1, 4, 2, 3, 6, 8, 5, 7, 9]\n",
      "2.1999999999999997\n"
     ]
    }
   ],
   "source": [
    "import numpy as np\n",
    "from python_tsp.exact import solve_tsp_dynamic_programming\n",
    "\n",
    "distance = np.array([\n",
    "        [0, 0.2, 0.4, 0.6, 0.3, 0.2, 0.5, 0.4, 0.6, 0.3],\n",
    "        [0.2, 0, 0.2, 0.4, 0.2, 0.3, 0.4, 0.5, 0.5, 0.5],\n",
    "        [0.4, 0.2, 0, 0.2, 0.2, 0.4, 0.3, 0.5, 0.5, 0.6],\n",
    "        [0.6, 0.4, 0.2, 0, 0.3, 0.4, 0.2, 0.4, 0.3, 0.6],\n",
    "        [0.3, 0.2, 0.2, 0.3, 0, 0.2, 0.2, 0.3, 0.4, 0.4],\n",
    "        [0.2, 0.3, 0.4, 0.4, 0.2, 0, 0.3, 0.2, 0.5, 0.2],\n",
    "        [0.5, 0.4, 0.3, 0.2, 0.2, 0.3, 0, 0.2, 0.2, 0.5],\n",
    "        [0.4, 0.5, 0.5, 0.4, 0.3, 0.2, 0.2, 0, 0.3, 0.3],\n",
    "        [0.6, 0.5, 0.5, 0.3, 0.4, 0.2, 0.2, 0.3, 0, 0.6],\n",
    "        [0.3, 0.5, 0.6, 0.6, 0.4, 0.5, 0.5, 0.3, 0.6, 0]\n",
    "    ])\n",
    "\n",
    "permutation, distance = solve_tsp_dynamic_programming(distance)\n",
    "print(permutation)\n",
    "print(distance)"
   ]
  },
  {
   "cell_type": "code",
   "execution_count": null,
   "id": "e804aa84",
   "metadata": {},
   "outputs": [],
   "source": []
  }
 ],
 "metadata": {
  "kernelspec": {
   "display_name": "Python 3 (ipykernel)",
   "language": "python",
   "name": "python3"
  },
  "language_info": {
   "codemirror_mode": {
    "name": "ipython",
    "version": 3
   },
   "file_extension": ".py",
   "mimetype": "text/x-python",
   "name": "python",
   "nbconvert_exporter": "python",
   "pygments_lexer": "ipython3",
   "version": "3.9.12"
  }
 },
 "nbformat": 4,
 "nbformat_minor": 5
}
